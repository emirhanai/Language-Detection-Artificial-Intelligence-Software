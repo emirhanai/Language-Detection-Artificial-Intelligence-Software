{
  "metadata": {
    "kernelspec": {
      "language": "python",
      "display_name": "Python 3",
      "name": "python3"
    },
    "language_info": {
      "name": "python",
      "version": "3.7.12",
      "mimetype": "text/x-python",
      "codemirror_mode": {
        "name": "ipython",
        "version": 3
      },
      "pygments_lexer": "ipython3",
      "nbconvert_exporter": "python",
      "file_extension": ".py"
    },
    "colab": {
      "name": "Language Detection Artificial Intelligence Software.ipynb",
      "provenance": []
    }
  },
  "nbformat_minor": 0,
  "nbformat": 4,
  "cells": [
    {
      "cell_type": "markdown",
      "source": [
        "> # Language Detection Artificial Intelligence Software - By Emirhan BULUT"
      ],
      "metadata": {
        "id": "CwWWt7WX8QC7"
      }
    },
    {
      "cell_type": "markdown",
      "source": [
        "I developed 'Language Detection Artificial Intelligence Software'. I share this software with all humanity for free from Kaggle and GitHub.\n",
        "The sensitivity score is quite high and the accuracy score is in a very advantageous position. It has 97% accuracy and 98.4% sensitivity score.\n",
        "I share Dataset and Artificial Intelligence Software as open source. I used the Naive Bayes algorithm and manipulated the dataset to improve the algorithm. In this way, the sensitivity rate and score of the software has been increased. In addition, I adapted the data according to the algorithm and made the algorithm work. In this study, it was studied on the data, not on the algorithm.\n",
        "\n",
        "I wish conveniences,\n",
        "\n",
        "Emirhan BULUT\n",
        "\n",
        "Senior Artificial Intelligence Engineer\n",
        "\n",
        "###**The coding language used:**\n",
        "\n",
        "`Python 3.9.8`\n",
        "\n",
        "###**Libraries Used:**\n",
        "\n",
        "`NumPy`\n",
        "\n",
        "`Pandas`\n",
        "\n",
        "`Scikit-learn (SKLEARN)`\n",
        "\n",
        "<img class=\"fit-picture\"\n",
        "     src=\"https://github.com/emirhanai/Language-Detection-Artificial-Intelligence-Software/blob/main/Language%20Detection%20Artificial%20Intelligence%20Software.png?raw=true\"\n",
        "     alt=\"Language Detection Artificial Intelligence Software - Emirhan BULUT\">\n",
        "     \n",
        "### **Developer Information:**\n",
        "\n",
        "Name-Surname: **Emirhan BULUT**\n",
        "\n",
        "Contact (Email) : **emirhan@isap.solutions**\n",
        "\n",
        "LinkedIn : **[https://www.linkedin.com/in/artificialintelligencebulut/][LinkedinAccount]**\n",
        "\n",
        "[LinkedinAccount]: https://www.linkedin.com/in/artificialintelligencebulut/\n",
        "\n",
        "Kaggle: **[https://www.kaggle.com/emirhanai][Kaggle]**\n",
        "\n",
        "Official Website: **[https://www.emirhanbulut.com.tr][OfficialWebSite]**\n",
        "\n",
        "[Kaggle]: https://www.kaggle.com/emirhanai\n",
        "\n",
        "[OfficialWebSite]: https://www.emirhanbulut.com.tr"
      ],
      "metadata": {
        "id": "H_phm-HbAHEL"
      }
    },
    {
      "cell_type": "markdown",
      "source": [
        "> # Introduction to Language Detection Artificial Intelligence Software\n",
        "> * **Import to ML (scikit-learn), Data (Pandas) and Math (NumPy) Libraries**\n",
        "> * **Data Loading from 'Kaggle'**"
      ],
      "metadata": {
        "id": "jf5BcApoAHEO"
      }
    },
    {
      "cell_type": "code",
      "source": [
        "#Import to ML (scikit-learn), Data (Pandas) and Math (NumPy) Libraries\n",
        "import pandas as pd\n",
        "import numpy as np\n",
        "from sklearn.model_selection import train_test_split\n",
        "from sklearn.feature_extraction.text import CountVectorizer, TfidfTransformer\n",
        "\n",
        "#Data Loading from 'Kaggle'\n",
        "df = pd.read_csv('language_detection.csv')\n",
        "\n",
        "df.head(5)"
      ],
      "metadata": {
        "id": "LCfJ7twKk6eR",
        "outputId": "5942dda5-6ce9-4afd-94e9-506488c31f0a",
        "execution": {
          "iopub.status.busy": "2022-04-28T04:28:00.151915Z",
          "iopub.execute_input": "2022-04-28T04:28:00.152318Z",
          "iopub.status.idle": "2022-04-28T04:28:01.226384Z",
          "shell.execute_reply.started": "2022-04-28T04:28:00.152208Z",
          "shell.execute_reply": "2022-04-28T04:28:01.225602Z"
        },
        "trusted": true,
        "colab": {
          "base_uri": "https://localhost:8080/",
          "height": 206
        }
      },
      "execution_count": 1,
      "outputs": [
        {
          "output_type": "execute_result",
          "data": {
            "text/plain": [
              "                                                Text  language\n",
              "0  klement gottwaldi surnukeha palsameeriti ning ...  Estonian\n",
              "1  sebes joseph pereira thomas  på eng the jesuit...   Swedish\n",
              "2  ถนนเจริญกรุง อักษรโรมัน thanon charoen krung เ...      Thai\n",
              "3  விசாகப்பட்டினம் தமிழ்ச்சங்கத்தை இந்துப் பத்திர...     Tamil\n",
              "4  de spons behoort tot het geslacht haliclona en...     Dutch"
            ],
            "text/html": [
              "\n",
              "  <div id=\"df-12cc8e16-6c0e-4b67-9bcb-ca1dcba0b135\">\n",
              "    <div class=\"colab-df-container\">\n",
              "      <div>\n",
              "<style scoped>\n",
              "    .dataframe tbody tr th:only-of-type {\n",
              "        vertical-align: middle;\n",
              "    }\n",
              "\n",
              "    .dataframe tbody tr th {\n",
              "        vertical-align: top;\n",
              "    }\n",
              "\n",
              "    .dataframe thead th {\n",
              "        text-align: right;\n",
              "    }\n",
              "</style>\n",
              "<table border=\"1\" class=\"dataframe\">\n",
              "  <thead>\n",
              "    <tr style=\"text-align: right;\">\n",
              "      <th></th>\n",
              "      <th>Text</th>\n",
              "      <th>language</th>\n",
              "    </tr>\n",
              "  </thead>\n",
              "  <tbody>\n",
              "    <tr>\n",
              "      <th>0</th>\n",
              "      <td>klement gottwaldi surnukeha palsameeriti ning ...</td>\n",
              "      <td>Estonian</td>\n",
              "    </tr>\n",
              "    <tr>\n",
              "      <th>1</th>\n",
              "      <td>sebes joseph pereira thomas  på eng the jesuit...</td>\n",
              "      <td>Swedish</td>\n",
              "    </tr>\n",
              "    <tr>\n",
              "      <th>2</th>\n",
              "      <td>ถนนเจริญกรุง อักษรโรมัน thanon charoen krung เ...</td>\n",
              "      <td>Thai</td>\n",
              "    </tr>\n",
              "    <tr>\n",
              "      <th>3</th>\n",
              "      <td>விசாகப்பட்டினம் தமிழ்ச்சங்கத்தை இந்துப் பத்திர...</td>\n",
              "      <td>Tamil</td>\n",
              "    </tr>\n",
              "    <tr>\n",
              "      <th>4</th>\n",
              "      <td>de spons behoort tot het geslacht haliclona en...</td>\n",
              "      <td>Dutch</td>\n",
              "    </tr>\n",
              "  </tbody>\n",
              "</table>\n",
              "</div>\n",
              "      <button class=\"colab-df-convert\" onclick=\"convertToInteractive('df-12cc8e16-6c0e-4b67-9bcb-ca1dcba0b135')\"\n",
              "              title=\"Convert this dataframe to an interactive table.\"\n",
              "              style=\"display:none;\">\n",
              "        \n",
              "  <svg xmlns=\"http://www.w3.org/2000/svg\" height=\"24px\"viewBox=\"0 0 24 24\"\n",
              "       width=\"24px\">\n",
              "    <path d=\"M0 0h24v24H0V0z\" fill=\"none\"/>\n",
              "    <path d=\"M18.56 5.44l.94 2.06.94-2.06 2.06-.94-2.06-.94-.94-2.06-.94 2.06-2.06.94zm-11 1L8.5 8.5l.94-2.06 2.06-.94-2.06-.94L8.5 2.5l-.94 2.06-2.06.94zm10 10l.94 2.06.94-2.06 2.06-.94-2.06-.94-.94-2.06-.94 2.06-2.06.94z\"/><path d=\"M17.41 7.96l-1.37-1.37c-.4-.4-.92-.59-1.43-.59-.52 0-1.04.2-1.43.59L10.3 9.45l-7.72 7.72c-.78.78-.78 2.05 0 2.83L4 21.41c.39.39.9.59 1.41.59.51 0 1.02-.2 1.41-.59l7.78-7.78 2.81-2.81c.8-.78.8-2.07 0-2.86zM5.41 20L4 18.59l7.72-7.72 1.47 1.35L5.41 20z\"/>\n",
              "  </svg>\n",
              "      </button>\n",
              "      \n",
              "  <style>\n",
              "    .colab-df-container {\n",
              "      display:flex;\n",
              "      flex-wrap:wrap;\n",
              "      gap: 12px;\n",
              "    }\n",
              "\n",
              "    .colab-df-convert {\n",
              "      background-color: #E8F0FE;\n",
              "      border: none;\n",
              "      border-radius: 50%;\n",
              "      cursor: pointer;\n",
              "      display: none;\n",
              "      fill: #1967D2;\n",
              "      height: 32px;\n",
              "      padding: 0 0 0 0;\n",
              "      width: 32px;\n",
              "    }\n",
              "\n",
              "    .colab-df-convert:hover {\n",
              "      background-color: #E2EBFA;\n",
              "      box-shadow: 0px 1px 2px rgba(60, 64, 67, 0.3), 0px 1px 3px 1px rgba(60, 64, 67, 0.15);\n",
              "      fill: #174EA6;\n",
              "    }\n",
              "\n",
              "    [theme=dark] .colab-df-convert {\n",
              "      background-color: #3B4455;\n",
              "      fill: #D2E3FC;\n",
              "    }\n",
              "\n",
              "    [theme=dark] .colab-df-convert:hover {\n",
              "      background-color: #434B5C;\n",
              "      box-shadow: 0px 1px 3px 1px rgba(0, 0, 0, 0.15);\n",
              "      filter: drop-shadow(0px 1px 2px rgba(0, 0, 0, 0.3));\n",
              "      fill: #FFFFFF;\n",
              "    }\n",
              "  </style>\n",
              "\n",
              "      <script>\n",
              "        const buttonEl =\n",
              "          document.querySelector('#df-12cc8e16-6c0e-4b67-9bcb-ca1dcba0b135 button.colab-df-convert');\n",
              "        buttonEl.style.display =\n",
              "          google.colab.kernel.accessAllowed ? 'block' : 'none';\n",
              "\n",
              "        async function convertToInteractive(key) {\n",
              "          const element = document.querySelector('#df-12cc8e16-6c0e-4b67-9bcb-ca1dcba0b135');\n",
              "          const dataTable =\n",
              "            await google.colab.kernel.invokeFunction('convertToInteractive',\n",
              "                                                     [key], {});\n",
              "          if (!dataTable) return;\n",
              "\n",
              "          const docLinkHtml = 'Like what you see? Visit the ' +\n",
              "            '<a target=\"_blank\" href=https://colab.research.google.com/notebooks/data_table.ipynb>data table notebook</a>'\n",
              "            + ' to learn more about interactive tables.';\n",
              "          element.innerHTML = '';\n",
              "          dataTable['output_type'] = 'display_data';\n",
              "          await google.colab.output.renderOutput(dataTable, element);\n",
              "          const docLink = document.createElement('div');\n",
              "          docLink.innerHTML = docLinkHtml;\n",
              "          element.appendChild(docLink);\n",
              "        }\n",
              "      </script>\n",
              "    </div>\n",
              "  </div>\n",
              "  "
            ]
          },
          "metadata": {},
          "execution_count": 1
        }
      ]
    },
    {
      "cell_type": "markdown",
      "source": [
        "### Value Counts of Language Label"
      ],
      "metadata": {
        "id": "Wf6tMRBFrar-"
      }
    },
    {
      "cell_type": "code",
      "source": [
        "df[\"language\"].value_counts()"
      ],
      "metadata": {
        "colab": {
          "base_uri": "https://localhost:8080/"
        },
        "id": "TZP7Y48WKrAf",
        "outputId": "ed8deee1-527e-4570-8e35-0b9701edfcac"
      },
      "execution_count": 2,
      "outputs": [
        {
          "output_type": "execute_result",
          "data": {
            "text/plain": [
              "Estonian      1000\n",
              "Swedish       1000\n",
              "English       1000\n",
              "Russian       1000\n",
              "Romanian      1000\n",
              "Persian       1000\n",
              "Pushto        1000\n",
              "Spanish       1000\n",
              "Hindi         1000\n",
              "Korean        1000\n",
              "Chinese       1000\n",
              "French        1000\n",
              "Portugese     1000\n",
              "Indonesian    1000\n",
              "Urdu          1000\n",
              "Latin         1000\n",
              "Turkish       1000\n",
              "Japanese      1000\n",
              "Dutch         1000\n",
              "Tamil         1000\n",
              "Thai          1000\n",
              "Arabic        1000\n",
              "Name: language, dtype: int64"
            ]
          },
          "metadata": {},
          "execution_count": 2
        }
      ]
    },
    {
      "cell_type": "markdown",
      "source": [
        "### Value Counts of Text Feature"
      ],
      "metadata": {
        "id": "8t8aH4dMrV_3"
      }
    },
    {
      "cell_type": "code",
      "source": [
        "df[\"Text\"].value_counts()"
      ],
      "metadata": {
        "colab": {
          "base_uri": "https://localhost:8080/"
        },
        "id": "L28_K7X8KskN",
        "outputId": "8bee9b94-7687-4835-ad44-80c68b59cb9e"
      },
      "execution_count": 3,
      "outputs": [
        {
          "output_type": "execute_result",
          "data": {
            "text/plain": [
              "haec commentatio automatice praeparata res astronomicas colligit excerptas e pagina [] sitús small-body database quem elaboraverunt nasa et jpl apud institutum technologiae californiense                                                                                                                                                                                                                                                                                                                                                                                                                                                                                                                                                                                                                                                                                                                                                                                    48\n",
              "இக்கோயில் முதன்மைத் திருக்கோயில் என்ற வகைப்பாட்டில் இந்து அறநிலையத்துறையின் கட்டுப்பாட்டில் உள்ளது பரம்பரை அல்லாத அறங்காவலர் அமைப்பால் நிர்வகிக்கப்படுகிறது                                                                                                                                                                                                                                                                                                                                                                                                                                                                                                                                                                                                                                                                                                                                                                                                                   17\n",
              "bisby fa roskov yr orrell tm nicolson d paglinawan le bailly n kirk pm bourgoin t baillargeon g ouvrard d red  \"species   itis catalogue of life  annual checklist\" species  reading uk diakses pada  september                                                                                                                                                                                                                                                                                                                                                                                                                                                                                                                                                                                                                                                                                                                                                               12\n",
              "seperti asteroid pada umumnya asteroid ini terbentuk dari nebula matahari primordial sebagai pecahan planetisimal sesuatu di nebula matahari muda yang tidak cukup besar untuk berubah menjadi planet                                                                                                                                                                                                                                                                                                                                                                                                                                                                                                                                                                                                                                                                                                                                                                          7\n",
              "lévolution du nombre dhabitants est connue à travers les recensements de la population effectués dans la commune depuis  à partir de  les populations légales des communes sont publiées annuellement par linsee le recensement repose désormais sur une collecte dinformation annuelle concernant successivement tous les territoires communaux au cours dune période de cinq ans pour les communes de moins de   habitants une enquête de recensement portant sur toute la population est réalisée tous les cinq ans les populations légales des années intermédiaires étant quant à elles estimées par interpolation ou extrapolation pour la commune le premier recensement exhaustif entrant dans le cadre du nouveau dispositif a été réalisé en                                                                                                                                                                                                                         7\n",
              "                                                                                                                                                                                                                                                                                                                                                                                                                                                                                                                                                                                                                                                                                                                                                                                                                                                                                                                                                                              ..\n",
              "in  zette hij het project swiss piano op waarin pianowerk van hedendaagse zwitserse componisten uitgevoerd wordt het project resulteerde onder andere in een cd met nieuw aan wong opgedragen werk van daniel füter hans ulrich lehmann laurent mettraux isabel mundry jürg wyttenbach gérard zinsstag en alfred zimmerlin                                                                                                                                                                                                                                                                                                                                                                                                                                                                                                                                                                                                                                                     1\n",
              "nacido en duisburgo alemania caninenberg estudió en los primeros años  en la folkwang universität der künste de essen y tras graduarse actuó por vez primera en teatros de krefeld gießen y wuppertal tras servir durante la segunda guerra mundial hubo de cumplir cautiverio y en  retomó su carrera artística de vuelta en wuppertal colaboró en la reconstrucción teatral y en  fue a trabajar a la ópera estatal de stuttgart en  fue contratado por el prestigioso actor y director hans schweikart para actuar en el teatro de cámara de múnich pero pronto se trasladó a düsseldorf boleslaw barlog contó con él para actuar en el staatlichen berliner bühnen y en fráncfort del meno actuó junto a lola müthel con la que se casó en                                                                                                                                                                                                                                 1\n",
              "بچوں کی سائنس میں آسان مقالہ  انسانی دماغ* یہ مضمون عمومی طور پر دماغ کے بارے میں ہے۔ بالخصوص انسانی دماغ کے بارے میں دیکھیےدماغ انسانیدماغ دراصل مرکزی عصبی نظام کا ایک ایسا حصہ ہوتا ہے جسمیں عصبی نظام کے تمام اعلیٰ مراکز پائے جاتے ہیں۔ اکثر جانداروں میں دماغ سر میں موجود ایک ہڈی کے صندوق میں محفوظ ہوتا ہے جسے کاسہ سر یا کھوپڑی کہتے ہیں اور چار بنیادی حسیں بصارت سماعت ذائقہ اور سونگھنا اسکے بالکل قرب و جوار میں ملتی ہیں۔ فقاریہ جانداروں مثلا انسان کے عصبی نظام میں تو دماغ پایاجاتا ہے مگر غیرفقاریہ جانداروں میں عصبی نظام دراصل عصبی عقدوں یا یوں کہـ لیں کہ عصبی خلیات کی چھوٹی چھوٹی گرھوں پر مشتمل ہوتا ہے۔ دماغ ایک انتہائی پیچیدہ عضو ہے اس بات کا اندازا یوں لگایا جاسکتا ہے کہ ایک دماغ میں تقریباًً  ارب  ایک کھرب خلیات پائے جاتے ہیں یہاں یہ بات واضع رہے کہ یہ صرف ان خلیات کی تعداد ہے جنکو عصبون یا neuron کہا جاتا ہے۔ اور پھر ان  ارب خلیات میں سے بھی ہر ایک  عصبی تاروں یا ریشوں کے ذریعہ تقریباً  دیگر خلیات کے ساتھ رابطے بناتا ہے۔     1\n",
              "바그너의 행운은 년에 바이에른 왕국의 루트비히 세가 나이 세로 즉위하자 극적인 계기를 맞았다 젊은 왕은 어린 시절부터 바그너의 오페라의 열렬한 숭배자였기에 작곡가를 뮌헨으로 데려왔다 그는 바그너의 상당한 빚을 해결해 주었고 그의 새 오페라가 상연될 계획을 세웠다 리허설에서의 각고의 어려움 끝에 트리스탄과 이졸데는 뮌헨 왕립 극장에서 년 월 일에 큰 성공을 거두며 초연되었다                                                                                                                                                                                                                                                                                                                                                                                                                                                                                                                                                                                                                                                                                                                                                              1\n",
              " aprilie sonda spațială messenger a nasa și-a încheiat misiunea de studiu de  ani prăbușindu-se pe suprafața planetei mercur sonda a rămas fără combustibil fiind împinsă de gravitația solară din ce în ce mai aproape de mercur                                                                                                                                                                                                                                                                                                                                                                                                                                                                                                                                                                                                                                                                                                                                              1\n",
              "Name: Text, Length: 21859, dtype: int64"
            ]
          },
          "metadata": {},
          "execution_count": 3
        }
      ]
    },
    {
      "cell_type": "markdown",
      "source": [
        "> # *Process*\n",
        "> * **Import to ML (scikit-learn) Libraries**\n",
        "> * **Data Preprocessing**\n",
        "> * **NLP system entegration to Data**\n",
        "> * **Model Creating**"
      ],
      "metadata": {
        "id": "DLzTtQteAHET"
      }
    },
    {
      "cell_type": "code",
      "source": [
        "#Import to ML (scikit-learn) Libraries\n",
        "from sklearn.naive_bayes import MultinomialNB #RidgeClassifier\n",
        "\n",
        "#Data Preprocessing\n",
        "X_train, X_test, y_train, y_test = train_test_split(df.Text, \n",
        "                                                    df.language,\n",
        "                                                    test_size=0.325000000000000001,\n",
        "                                                    random_state=2551,\n",
        "                                                    shuffle=True)\n",
        "#NLP system entegration to Data    \n",
        "X_CountVectorizer = CountVectorizer(stop_words='english')\n",
        "\n",
        "X_train_counts = X_CountVectorizer.fit_transform(X_train)\n",
        "\n",
        "X_TfidfTransformer = TfidfTransformer()\n",
        "\n",
        "X_train_tfidf = X_TfidfTransformer.fit_transform(X_train_counts)\n",
        "\n",
        "#Model Creating\n",
        "model = MultinomialNB()\n",
        "\n",
        "model.fit(X_train_tfidf, y_train)"
      ],
      "metadata": {
        "id": "ONaTBUGhlVfb",
        "outputId": "e9fd9960-ef5a-4b3b-bc66-0f260dc1689b",
        "execution": {
          "iopub.status.busy": "2022-04-28T04:40:23.907711Z",
          "iopub.execute_input": "2022-04-28T04:40:23.908004Z",
          "iopub.status.idle": "2022-04-28T04:40:27.604313Z",
          "shell.execute_reply.started": "2022-04-28T04:40:23.907976Z",
          "shell.execute_reply": "2022-04-28T04:40:27.603542Z"
        },
        "trusted": true,
        "colab": {
          "base_uri": "https://localhost:8080/"
        }
      },
      "execution_count": 25,
      "outputs": [
        {
          "output_type": "execute_result",
          "data": {
            "text/plain": [
              "MultinomialNB()"
            ]
          },
          "metadata": {},
          "execution_count": 25
        }
      ]
    },
    {
      "cell_type": "markdown",
      "source": [
        "> # *Model Accuracy Score*\n",
        "> * **model.score([Test_data])**"
      ],
      "metadata": {
        "id": "JHZGnL5fer6D"
      }
    },
    {
      "cell_type": "code",
      "source": [
        "model.score(X_CountVectorizer.transform(X_test),y_test)"
      ],
      "metadata": {
        "colab": {
          "base_uri": "https://localhost:8080/"
        },
        "id": "bf6jvYyiA7H5",
        "outputId": "df3e6fc0-abf1-4c3e-82a0-603f5fe8511d"
      },
      "execution_count": 26,
      "outputs": [
        {
          "output_type": "execute_result",
          "data": {
            "text/plain": [
              "0.9444755244755245"
            ]
          },
          "metadata": {},
          "execution_count": 26
        }
      ]
    },
    {
      "cell_type": "markdown",
      "source": [
        "> # *Prediction*"
      ],
      "metadata": {
        "id": "SwPDoh3lAHEV"
      }
    },
    {
      "cell_type": "code",
      "source": [
        "#Data of Prediction\n",
        "text = \"\"\"I quite like him. \n",
        "I'm so in love with him and my heart flutters when I see him.\"\"\"\n",
        "\n",
        "text = [text]\n",
        "\n",
        "text_counts = X_CountVectorizer.transform(text)\n",
        "\n",
        "#Prediction Processing\n",
        "prediction = model.predict(text_counts)\n",
        "\n",
        "f\"Prediction is {prediction[0]}\""
      ],
      "metadata": {
        "id": "iyyBoWXd6a1Z",
        "outputId": "17923d0a-30f9-420e-d2f0-4895ec7f8a95",
        "execution": {
          "iopub.status.busy": "2022-04-28T04:39:49.024176Z",
          "iopub.execute_input": "2022-04-28T04:39:49.024457Z",
          "iopub.status.idle": "2022-04-28T04:39:49.032443Z",
          "shell.execute_reply.started": "2022-04-28T04:39:49.024426Z",
          "shell.execute_reply": "2022-04-28T04:39:49.031750Z"
        },
        "trusted": true,
        "colab": {
          "base_uri": "https://localhost:8080/",
          "height": 35
        }
      },
      "execution_count": 27,
      "outputs": [
        {
          "output_type": "execute_result",
          "data": {
            "text/plain": [
              "'Prediction is English'"
            ],
            "application/vnd.google.colaboratory.intrinsic+json": {
              "type": "string"
            }
          },
          "metadata": {},
          "execution_count": 27
        }
      ]
    }
  ]
}